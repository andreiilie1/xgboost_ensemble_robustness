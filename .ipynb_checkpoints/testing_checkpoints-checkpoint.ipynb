{
 "cells": [
  {
   "cell_type": "code",
   "execution_count": 12,
   "metadata": {},
   "outputs": [],
   "source": [
    "# Checkpoint the weights for best model on validation accuracy\n",
    "from tensorflow.keras.models import Sequential\n",
    "from tensorflow.keras.layers import Dense\n",
    "from tensorflow.keras.callbacks import ModelCheckpoint\n",
    "import matplotlib.pyplot as plt\n",
    "import numpy\n",
    "from sklearn.model_selection import train_test_split"
   ]
  },
  {
   "cell_type": "code",
   "execution_count": 10,
   "metadata": {},
   "outputs": [],
   "source": [
    "# load pima indians dataset\n",
    "dataset = numpy.loadtxt(\"data/pima-indians-diabetes.data.csv\", delimiter=\",\")\n",
    "# split into input (X) and output (Y) variables\n",
    "X = dataset[:,0:8]\n",
    "y = dataset[:,8]"
   ]
  },
  {
   "cell_type": "code",
   "execution_count": 18,
   "metadata": {},
   "outputs": [],
   "source": [
    "X_train, X_test, y_train, y_test = train_test_split(X, y, test_size=0.2, random_state=1)\n",
    "X_train, X_val, y_train, y_val = train_test_split(X_train, y_train, test_size=0.2, random_state=1)"
   ]
  },
  {
   "cell_type": "code",
   "execution_count": 19,
   "metadata": {},
   "outputs": [
    {
     "name": "stdout",
     "output_type": "stream",
     "text": [
      "491 123 154\n"
     ]
    }
   ],
   "source": [
    "print(len(X_train), len(X_val), len(X_test))"
   ]
  },
  {
   "cell_type": "code",
   "execution_count": 20,
   "metadata": {},
   "outputs": [],
   "source": [
    "# create model\n",
    "model = Sequential()\n",
    "model.add(Dense(12, input_dim=8, activation='relu'))\n",
    "model.add(Dense(8, activation='relu'))\n",
    "model.add(Dense(1, activation='sigmoid'))"
   ]
  },
  {
   "cell_type": "code",
   "execution_count": 85,
   "metadata": {},
   "outputs": [],
   "source": [
    "# Compile model\n",
    "model.compile(loss='binary_crossentropy', optimizer='adam', metrics=['acc'])"
   ]
  },
  {
   "cell_type": "code",
   "execution_count": 78,
   "metadata": {
    "collapsed": true,
    "jupyter": {
     "outputs_hidden": true
    }
   },
   "outputs": [
    {
     "name": "stdout",
     "output_type": "stream",
     "text": [
      "\n",
      "Epoch 00001: val_loss improved from inf to 0.78379, saving model to weights/testing_checkpoints/weights.best.hdf5\n",
      "\n",
      "Epoch 00002: val_loss improved from 0.78379 to 0.76660, saving model to weights/testing_checkpoints/weights.best.hdf5\n",
      "\n",
      "Epoch 00003: val_loss improved from 0.76660 to 0.74998, saving model to weights/testing_checkpoints/weights.best.hdf5\n",
      "\n",
      "Epoch 00004: val_loss did not improve from 0.74998\n",
      "\n",
      "Epoch 00005: val_loss did not improve from 0.74998\n",
      "\n",
      "Epoch 00006: val_loss improved from 0.74998 to 0.74984, saving model to weights/testing_checkpoints/weights.best.hdf5\n",
      "\n",
      "Epoch 00007: val_loss did not improve from 0.74984\n",
      "\n",
      "Epoch 00008: val_loss did not improve from 0.74984\n",
      "\n",
      "Epoch 00009: val_loss did not improve from 0.74984\n",
      "\n",
      "Epoch 00010: val_loss did not improve from 0.74984\n",
      "\n",
      "Epoch 00011: val_loss did not improve from 0.74984\n",
      "\n",
      "Epoch 00012: val_loss did not improve from 0.74984\n",
      "\n",
      "Epoch 00013: val_loss did not improve from 0.74984\n",
      "\n",
      "Epoch 00014: val_loss improved from 0.74984 to 0.74104, saving model to weights/testing_checkpoints/weights.best.hdf5\n",
      "\n",
      "Epoch 00015: val_loss did not improve from 0.74104\n",
      "\n",
      "Epoch 00016: val_loss improved from 0.74104 to 0.72383, saving model to weights/testing_checkpoints/weights.best.hdf5\n",
      "\n",
      "Epoch 00017: val_loss did not improve from 0.72383\n",
      "\n",
      "Epoch 00018: val_loss did not improve from 0.72383\n",
      "\n",
      "Epoch 00019: val_loss did not improve from 0.72383\n",
      "\n",
      "Epoch 00020: val_loss did not improve from 0.72383\n",
      "\n",
      "Epoch 00021: val_loss did not improve from 0.72383\n",
      "\n",
      "Epoch 00022: val_loss did not improve from 0.72383\n",
      "\n",
      "Epoch 00023: val_loss did not improve from 0.72383\n",
      "\n",
      "Epoch 00024: val_loss did not improve from 0.72383\n",
      "\n",
      "Epoch 00025: val_loss did not improve from 0.72383\n",
      "\n",
      "Epoch 00026: val_loss did not improve from 0.72383\n",
      "\n",
      "Epoch 00027: val_loss did not improve from 0.72383\n",
      "\n",
      "Epoch 00028: val_loss did not improve from 0.72383\n",
      "\n",
      "Epoch 00029: val_loss did not improve from 0.72383\n",
      "\n",
      "Epoch 00030: val_loss did not improve from 0.72383\n",
      "\n",
      "Epoch 00031: val_loss did not improve from 0.72383\n",
      "\n",
      "Epoch 00032: val_loss did not improve from 0.72383\n",
      "\n",
      "Epoch 00033: val_loss did not improve from 0.72383\n",
      "\n",
      "Epoch 00034: val_loss did not improve from 0.72383\n",
      "\n",
      "Epoch 00035: val_loss did not improve from 0.72383\n",
      "\n",
      "Epoch 00036: val_loss did not improve from 0.72383\n",
      "\n",
      "Epoch 00037: val_loss did not improve from 0.72383\n",
      "\n",
      "Epoch 00038: val_loss did not improve from 0.72383\n",
      "\n",
      "Epoch 00039: val_loss did not improve from 0.72383\n",
      "\n",
      "Epoch 00040: val_loss did not improve from 0.72383\n"
     ]
    }
   ],
   "source": [
    "# checkpoint\n",
    "filepath=\"weights/testing_checkpoints/weights.best.hdf5\"\n",
    "checkpoint = ModelCheckpoint(filepath, monitor='val_loss', verbose=1, save_best_only=True, mode='min')\n",
    "callbacks_list = [checkpoint]\n",
    "# Fit the model\n",
    "history = model.fit(X_train, y_train, validation_data=(X_val, y_val), epochs=40, batch_size=32, callbacks=callbacks_list, verbose=1)"
   ]
  },
  {
   "cell_type": "code",
   "execution_count": 100,
   "metadata": {},
   "outputs": [
    {
     "name": "stdout",
     "output_type": "stream",
     "text": [
      " - 0s - loss: 0.9320 - acc: 0.7597\n"
     ]
    },
    {
     "data": {
      "image/png": "[encoded data removed]",
      "text/plain": [
       "<Figure size 432x288 with 1 Axes>"
      ]
     },
     "metadata": {
      "needs_background": "light"
     },
     "output_type": "display_data"
    }
   ],
   "source": [
    "plt.plot(history.history['acc'], label='accuracy')\n",
    "plt.plot(history.history['val_acc'], label = 'val_accuracy')\n",
    "plt.xlabel('Epoch')\n",
    "plt.ylabel('Accuracy')\n",
    "plt.ylim([0.5, 1])\n",
    "plt.legend(loc='lower right')\n",
    "\n",
    "test_loss, test_acc = model.evaluate(X_test,  y_test, verbose=2)"
   ]
  },
  {
   "cell_type": "code",
   "execution_count": 95,
   "metadata": {
    "collapsed": true,
    "jupyter": {
     "outputs_hidden": true,
     "source_hidden": true
    }
   },
   "outputs": [
    {
     "data": {
      "text/plain": [
       "[<matplotlib.lines.Line2D at 0x249c832cb38>]"
      ]
     },
     "execution_count": 95,
     "metadata": {},
     "output_type": "execute_result"
    },
    {
     "data": {
      "image/png": "[encoded data removed]",
      "text/plain": [
       "<Figure size 432x288 with 1 Axes>"
      ]
     },
     "metadata": {
      "needs_background": "light"
     },
     "output_type": "display_data"
    }
   ],
   "source": [
    "plt.plot(history.history[\"loss\"])"
   ]
  },
  {
   "cell_type": "code",
   "execution_count": 107,
   "metadata": {},
   "outputs": [
    {
     "name": "stdout",
     "output_type": "stream",
     "text": [
      " - 0s - loss: 0.9310 - acc: 0.7857\n"
     ]
    }
   ],
   "source": [
    "test_loss, test_acc = model.evaluate(X_test,  y_test, verbose=2)"
   ]
  },
  {
   "cell_type": "markdown",
   "metadata": {},
   "source": [
    "Let us test whether we have the same metrics when creating a net with the same architecture and loading the saved weights"
   ]
  },
  {
   "cell_type": "code",
   "execution_count": 109,
   "metadata": {},
   "outputs": [],
   "source": [
    "# create model\n",
    "model = Sequential()\n",
    "model.add(Dense(12, input_dim=8, activation='relu'))\n",
    "model.add(Dense(8, activation='relu'))\n",
    "model.add(Dense(1, activation='sigmoid'))\n",
    "# Compile model\n",
    "model.compile(loss='binary_crossentropy', optimizer='adam', metrics=['acc'])"
   ]
  },
  {
   "cell_type": "code",
   "execution_count": 110,
   "metadata": {},
   "outputs": [],
   "source": [
    "model.load_weights(\"weights/testing_checkpoints/weights.best.hdf5\")"
   ]
  },
  {
   "cell_type": "code",
   "execution_count": 111,
   "metadata": {},
   "outputs": [
    {
     "name": "stdout",
     "output_type": "stream",
     "text": [
      " - 0s - loss: 0.9310 - acc: 0.7857\n"
     ]
    }
   ],
   "source": [
    "test_loss, test_acc = model.evaluate(X_test,  y_test, verbose=2)"
   ]
  },
  {
   "cell_type": "code",
   "execution_count": 120,
   "metadata": {},
   "outputs": [
    {
     "data": {
      "text/plain": [
       "[2, 2, 2, 2, 2, 2, 2, 2, 2]"
      ]
     },
     "execution_count": 120,
     "metadata": {},
     "output_type": "execute_result"
    }
   ],
   "source": [
    "def f(a):\n",
    "    a.append(2)\n",
    "    return 1\n",
    "x = f(a)\n",
    "a"
   ]
  }
 ],
 "metadata": {
  "kernelspec": {
   "display_name": "Python 3",
   "language": "python",
   "name": "python3"
  },
  "language_info": {
   "codemirror_mode": {
    "name": "ipython",
    "version": 3
   },
   "file_extension": ".py",
   "mimetype": "text/x-python",
   "name": "python",
   "nbconvert_exporter": "python",
   "pygments_lexer": "ipython3",
   "version": "3.6.7"
  }
 },
 "nbformat": 4,
 "nbformat_minor": 4
}
